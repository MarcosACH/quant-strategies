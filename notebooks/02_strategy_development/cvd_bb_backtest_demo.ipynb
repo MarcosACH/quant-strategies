{
 "cells": [
  {
   "cell_type": "markdown",
   "id": "6933bb82",
   "metadata": {},
   "source": [
    "# CVD BB Pullback Strategy Backtest Demo\n",
    "\n",
    "This notebook demonstrates how to backtest the CVD Bollinger Band Pullback strategy using parquet data files."
   ]
  },
  {
   "cell_type": "code",
   "execution_count": 40,
   "id": "5820e4af",
   "metadata": {},
   "outputs": [],
   "source": [
    "import sys\n",
    "import pandas as pd\n",
    "import numpy as np\n",
    "from pathlib import Path\n",
    "\n",
    "# Add src to path\n",
    "sys.path.append('../../src')\n",
    "\n",
    "from strategies.implementations.cvd_bb_pullback import CVDBBPullbackStrategy\n",
    "from bt_engine.vectorbt_engine import VectorBTEngine\n",
    "from config.settings import settings"
   ]
  },
  {
   "cell_type": "code",
   "execution_count": 41,
   "id": "4f338ebd",
   "metadata": {},
   "outputs": [
    {
     "name": "stdout",
     "output_type": "stream",
     "text": [
      "Data shape: (1576800, 6)\n",
      "Date range: 0 to 1576799\n",
      "Columns: ['datetime', 'open', 'high', 'low', 'close', 'volume']\n"
     ]
    },
    {
     "data": {
      "text/html": [
       "<div>\n",
       "<style scoped>\n",
       "    .dataframe tbody tr th:only-of-type {\n",
       "        vertical-align: middle;\n",
       "    }\n",
       "\n",
       "    .dataframe tbody tr th {\n",
       "        vertical-align: top;\n",
       "    }\n",
       "\n",
       "    .dataframe thead th {\n",
       "        text-align: right;\n",
       "    }\n",
       "</style>\n",
       "<table border=\"1\" class=\"dataframe\">\n",
       "  <thead>\n",
       "    <tr style=\"text-align: right;\">\n",
       "      <th></th>\n",
       "      <th>datetime</th>\n",
       "      <th>open</th>\n",
       "      <th>high</th>\n",
       "      <th>low</th>\n",
       "      <th>close</th>\n",
       "      <th>volume</th>\n",
       "    </tr>\n",
       "  </thead>\n",
       "  <tbody>\n",
       "    <tr>\n",
       "      <th>0</th>\n",
       "      <td>2024-10-26 20:01:00</td>\n",
       "      <td>67138.296875</td>\n",
       "      <td>67162.296875</td>\n",
       "      <td>67136.000000</td>\n",
       "      <td>67154.898438</td>\n",
       "      <td>3312.3</td>\n",
       "    </tr>\n",
       "    <tr>\n",
       "      <th>1</th>\n",
       "      <td>2024-10-26 20:00:00</td>\n",
       "      <td>67178.500000</td>\n",
       "      <td>67178.500000</td>\n",
       "      <td>67138.296875</td>\n",
       "      <td>67138.296875</td>\n",
       "      <td>2229.7</td>\n",
       "    </tr>\n",
       "    <tr>\n",
       "      <th>2</th>\n",
       "      <td>2024-10-26 19:59:00</td>\n",
       "      <td>67163.500000</td>\n",
       "      <td>67178.500000</td>\n",
       "      <td>67158.101562</td>\n",
       "      <td>67178.500000</td>\n",
       "      <td>1873.5</td>\n",
       "    </tr>\n",
       "    <tr>\n",
       "      <th>3</th>\n",
       "      <td>2024-10-26 19:58:00</td>\n",
       "      <td>67184.703125</td>\n",
       "      <td>67184.703125</td>\n",
       "      <td>67163.500000</td>\n",
       "      <td>67163.500000</td>\n",
       "      <td>1244.6</td>\n",
       "    </tr>\n",
       "    <tr>\n",
       "      <th>4</th>\n",
       "      <td>2024-10-26 19:57:00</td>\n",
       "      <td>67181.703125</td>\n",
       "      <td>67184.898438</td>\n",
       "      <td>67181.703125</td>\n",
       "      <td>67184.601562</td>\n",
       "      <td>504.4</td>\n",
       "    </tr>\n",
       "  </tbody>\n",
       "</table>\n",
       "</div>"
      ],
      "text/plain": [
       "             datetime          open          high           low         close  \\\n",
       "0 2024-10-26 20:01:00  67138.296875  67162.296875  67136.000000  67154.898438   \n",
       "1 2024-10-26 20:00:00  67178.500000  67178.500000  67138.296875  67138.296875   \n",
       "2 2024-10-26 19:59:00  67163.500000  67178.500000  67158.101562  67178.500000   \n",
       "3 2024-10-26 19:58:00  67184.703125  67184.703125  67163.500000  67163.500000   \n",
       "4 2024-10-26 19:57:00  67181.703125  67184.898438  67181.703125  67184.601562   \n",
       "\n",
       "   volume  \n",
       "0  3312.3  \n",
       "1  2229.7  \n",
       "2  1873.5  \n",
       "3  1244.6  \n",
       "4   504.4  "
      ]
     },
     "execution_count": 41,
     "metadata": {},
     "output_type": "execute_result"
    }
   ],
   "source": [
    "data_path = Path('../../data/raw/market_data/intraday/okx_btc_usdt_perp_1m_2021_10_27-2024_10_26.parquet')\n",
    "data = pd.read_parquet(data_path)\n",
    "\n",
    "print(f\"Data shape: {data.shape}\")\n",
    "print(f\"Date range: {data.index.min()} to {data.index.max()}\")\n",
    "print(f\"Columns: {list(data.columns)}\")\n",
    "data.head()"
   ]
  },
  {
   "cell_type": "code",
   "execution_count": 42,
   "id": "09e24ebd",
   "metadata": {},
   "outputs": [
    {
     "name": "stdout",
     "output_type": "stream",
     "text": [
      "Strategy: CVDBBPullbackStrategy\n",
      "Default parameters: {'bbands_length': 30, 'bbands_stddev': 2.0, 'cvd_length': 50, 'atr_length': 14, 'sl_coef': 2.5, 'tpsl_ratio': 2.0}\n"
     ]
    }
   ],
   "source": [
    "strategy = CVDBBPullbackStrategy()\n",
    "engine = VectorBTEngine(\n",
    "    initial_cash=1000,\n",
    "    fee_pct=0.05,\n",
    "    frequency='1min'\n",
    ")\n",
    "\n",
    "print(f\"Strategy: {strategy.name}\")\n",
    "print(f\"Default parameters: {strategy.params}\")"
   ]
  },
  {
   "cell_type": "code",
   "execution_count": 43,
   "id": "fbac0c0a",
   "metadata": {},
   "outputs": [
    {
     "name": "stdout",
     "output_type": "stream",
     "text": [
      "Parameter combinations: 6\n"
     ]
    }
   ],
   "source": [
    "param_ranges_small = {\n",
    "    'bbands_length': [20, 30, 40],\n",
    "    'bbands_stddev': [2.0, 2.5],\n",
    "    'cvd_length': [30],\n",
    "    'atr_length': [14],\n",
    "    'sl_coef': [2.0],\n",
    "    'tpsl_ratio': [2.5]\n",
    "}\n",
    "\n",
    "print(f\"Parameter combinations: {np.prod([len(v) for v in param_ranges_small.values()])}\")"
   ]
  },
  {
   "cell_type": "code",
   "execution_count": 44,
   "id": "c24bbc65",
   "metadata": {},
   "outputs": [
    {
     "name": "stdout",
     "output_type": "stream",
     "text": [
      "Starting CVDBBPullbackStrategy Backtesting...\n",
      "Total parameter combinations: 6\n",
      "Processing in indicator batches of 500\n"
     ]
    },
    {
     "name": "stderr",
     "output_type": "stream",
     "text": [
      "Backtesting Progress: 100%|██████████| 6/6 [02:08<00:00, 21.39s/it]"
     ]
    },
    {
     "name": "stdout",
     "output_type": "stream",
     "text": [
      "All batches processed. Total combinations: 6\n",
      "Backtest completed! Results shape: (6, 25)\n"
     ]
    },
    {
     "name": "stderr",
     "output_type": "stream",
     "text": [
      "\n"
     ]
    }
   ],
   "source": [
    "results = engine.simulate_portfolios(\n",
    "    strategy=strategy,\n",
    "    data=data,\n",
    "    param_dict=param_ranges_small,\n",
    "    ticker=\"BTC-USDT-PERP\",\n",
    "    sizing_method=\"Risk percent\",\n",
    "    risk_pct=1.0,\n",
    "    exchange_broker=\"okx\",\n",
    "    date_range=\"2021_2024\",\n",
    "    save_results=False\n",
    ")\n",
    "\n",
    "print(f\"Backtest completed! Results shape: {results.shape}\")"
   ]
  },
  {
   "cell_type": "code",
   "execution_count": 45,
   "id": "d1c7539c",
   "metadata": {},
   "outputs": [
    {
     "name": "stdout",
     "output_type": "stream",
     "text": [
      "Top 10 parameter combinations by Sharpe ratio:\n"
     ]
    },
    {
     "data": {
      "text/html": [
       "<div>\n",
       "<style scoped>\n",
       "    .dataframe tbody tr th:only-of-type {\n",
       "        vertical-align: middle;\n",
       "    }\n",
       "\n",
       "    .dataframe tbody tr th {\n",
       "        vertical-align: top;\n",
       "    }\n",
       "\n",
       "    .dataframe thead th {\n",
       "        text-align: right;\n",
       "    }\n",
       "</style>\n",
       "<table border=\"1\" class=\"dataframe\">\n",
       "  <thead>\n",
       "    <tr style=\"text-align: right;\">\n",
       "      <th></th>\n",
       "      <th>CVDBB_bbands_length</th>\n",
       "      <th>CVDBB_bbands_stddev</th>\n",
       "      <th>CVDBB_cvd_length</th>\n",
       "      <th>total_return_pct</th>\n",
       "      <th>sharpe_ratio</th>\n",
       "      <th>max_drawdown_pct</th>\n",
       "      <th>total_trades</th>\n",
       "      <th>win_rate_pct</th>\n",
       "    </tr>\n",
       "  </thead>\n",
       "  <tbody>\n",
       "    <tr>\n",
       "      <th>5</th>\n",
       "      <td>40</td>\n",
       "      <td>2.5</td>\n",
       "      <td>30</td>\n",
       "      <td>-99.980761</td>\n",
       "      <td>-8.333888</td>\n",
       "      <td>99.980841</td>\n",
       "      <td>5227</td>\n",
       "      <td>28.582361</td>\n",
       "    </tr>\n",
       "    <tr>\n",
       "      <th>3</th>\n",
       "      <td>30</td>\n",
       "      <td>2.5</td>\n",
       "      <td>30</td>\n",
       "      <td>-99.981630</td>\n",
       "      <td>-9.616887</td>\n",
       "      <td>99.981630</td>\n",
       "      <td>4316</td>\n",
       "      <td>26.227989</td>\n",
       "    </tr>\n",
       "    <tr>\n",
       "      <th>1</th>\n",
       "      <td>20</td>\n",
       "      <td>2.5</td>\n",
       "      <td>30</td>\n",
       "      <td>-99.981997</td>\n",
       "      <td>-9.729706</td>\n",
       "      <td>99.981997</td>\n",
       "      <td>4349</td>\n",
       "      <td>26.488848</td>\n",
       "    </tr>\n",
       "    <tr>\n",
       "      <th>2</th>\n",
       "      <td>30</td>\n",
       "      <td>2.0</td>\n",
       "      <td>30</td>\n",
       "      <td>-99.981967</td>\n",
       "      <td>-10.154205</td>\n",
       "      <td>99.982106</td>\n",
       "      <td>3432</td>\n",
       "      <td>25.932401</td>\n",
       "    </tr>\n",
       "    <tr>\n",
       "      <th>0</th>\n",
       "      <td>20</td>\n",
       "      <td>2.0</td>\n",
       "      <td>30</td>\n",
       "      <td>-99.982164</td>\n",
       "      <td>-10.337559</td>\n",
       "      <td>99.982164</td>\n",
       "      <td>3241</td>\n",
       "      <td>25.794508</td>\n",
       "    </tr>\n",
       "    <tr>\n",
       "      <th>4</th>\n",
       "      <td>40</td>\n",
       "      <td>2.0</td>\n",
       "      <td>30</td>\n",
       "      <td>-99.982083</td>\n",
       "      <td>-10.550561</td>\n",
       "      <td>99.982087</td>\n",
       "      <td>3170</td>\n",
       "      <td>25.772871</td>\n",
       "    </tr>\n",
       "  </tbody>\n",
       "</table>\n",
       "</div>"
      ],
      "text/plain": [
       "   CVDBB_bbands_length  CVDBB_bbands_stddev  CVDBB_cvd_length  \\\n",
       "5                   40                  2.5                30   \n",
       "3                   30                  2.5                30   \n",
       "1                   20                  2.5                30   \n",
       "2                   30                  2.0                30   \n",
       "0                   20                  2.0                30   \n",
       "4                   40                  2.0                30   \n",
       "\n",
       "   total_return_pct  sharpe_ratio  max_drawdown_pct  total_trades  \\\n",
       "5        -99.980761     -8.333888         99.980841          5227   \n",
       "3        -99.981630     -9.616887         99.981630          4316   \n",
       "1        -99.981997     -9.729706         99.981997          4349   \n",
       "2        -99.981967    -10.154205         99.982106          3432   \n",
       "0        -99.982164    -10.337559         99.982164          3241   \n",
       "4        -99.982083    -10.550561         99.982087          3170   \n",
       "\n",
       "   win_rate_pct  \n",
       "5     28.582361  \n",
       "3     26.227989  \n",
       "1     26.488848  \n",
       "2     25.932401  \n",
       "0     25.794508  \n",
       "4     25.772871  "
      ]
     },
     "metadata": {},
     "output_type": "display_data"
    }
   ],
   "source": [
    "top_results = results.nlargest(10, 'sharpe_ratio')\n",
    "\n",
    "print(\"Top 10 parameter combinations by Sharpe ratio:\")\n",
    "display(top_results[['CVDBB_bbands_length', 'CVDBB_bbands_stddev', 'CVDBB_cvd_length', \n",
    "                    'total_return_pct', 'sharpe_ratio', 'max_drawdown_pct', \n",
    "                    'total_trades', 'win_rate_pct']])"
   ]
  },
  {
   "cell_type": "code",
   "execution_count": 46,
   "id": "9713542f",
   "metadata": {},
   "outputs": [
    {
     "data": {
      "application/vnd.plotly.v1+json": {
       "config": {
        "plotlyServerURL": "https://plot.ly"
       },
       "data": [
        {
         "customdata": [
          [
           20,
           30,
           25.794507867941995
          ],
          [
           20,
           30,
           26.48884801103702
          ],
          [
           30,
           30,
           25.932400932400935
          ],
          [
           30,
           30,
           26.22798887859129
          ],
          [
           40,
           30,
           25.77287066246057
          ],
          [
           40,
           30,
           28.582360818825332
          ]
         ],
         "hovertemplate": "max_drawdown_pct=%{x}<br>total_return_pct=%{y}<br>total_trades=%{marker.size}<br>CVDBB_bbands_length=%{customdata[0]}<br>CVDBB_cvd_length=%{customdata[1]}<br>win_rate_pct=%{customdata[2]}<br>sharpe_ratio=%{marker.color}<extra></extra>",
         "legendgroup": "",
         "marker": {
          "color": [
           -10.337558540727876,
           -9.729705769478645,
           -10.154205193555295,
           -9.616887486432812,
           -10.550561408419242,
           -8.333887586403613
          ],
          "coloraxis": "coloraxis",
          "size": [
           3241,
           4349,
           3432,
           4316,
           3170,
           5227
          ],
          "sizemode": "area",
          "sizeref": 13.0675,
          "symbol": "circle"
         },
         "mode": "markers",
         "name": "",
         "orientation": "v",
         "showlegend": false,
         "type": "scatter",
         "x": [
          99.98216439091449,
          99.98199717566331,
          99.98210648314439,
          99.98162999798585,
          99.98208740085288,
          99.9808407892988
         ],
         "xaxis": "x",
         "y": [
          -99.98216439091439,
          -99.98199717566338,
          -99.98196659997933,
          -99.98162999798616,
          -99.98208333168334,
          -99.98076087667542
         ],
         "yaxis": "y"
        }
       ],
       "layout": {
        "coloraxis": {
         "colorbar": {
          "title": {
           "text": "sharpe_ratio"
          }
         },
         "colorscale": [
          [
           0,
           "#0d0887"
          ],
          [
           0.1111111111111111,
           "#46039f"
          ],
          [
           0.2222222222222222,
           "#7201a8"
          ],
          [
           0.3333333333333333,
           "#9c179e"
          ],
          [
           0.4444444444444444,
           "#bd3786"
          ],
          [
           0.5555555555555556,
           "#d8576b"
          ],
          [
           0.6666666666666666,
           "#ed7953"
          ],
          [
           0.7777777777777778,
           "#fb9f3a"
          ],
          [
           0.8888888888888888,
           "#fdca26"
          ],
          [
           1,
           "#f0f921"
          ]
         ]
        },
        "legend": {
         "itemsizing": "constant",
         "tracegroupgap": 0
        },
        "template": {
         "data": {
          "bar": [
           {
            "error_x": {
             "color": "#2a3f5f"
            },
            "error_y": {
             "color": "#2a3f5f"
            },
            "marker": {
             "line": {
              "color": "#E5ECF6",
              "width": 0.5
             },
             "pattern": {
              "fillmode": "overlay",
              "size": 10,
              "solidity": 0.2
             }
            },
            "type": "bar"
           }
          ],
          "barpolar": [
           {
            "marker": {
             "line": {
              "color": "#E5ECF6",
              "width": 0.5
             },
             "pattern": {
              "fillmode": "overlay",
              "size": 10,
              "solidity": 0.2
             }
            },
            "type": "barpolar"
           }
          ],
          "carpet": [
           {
            "aaxis": {
             "endlinecolor": "#2a3f5f",
             "gridcolor": "white",
             "linecolor": "white",
             "minorgridcolor": "white",
             "startlinecolor": "#2a3f5f"
            },
            "baxis": {
             "endlinecolor": "#2a3f5f",
             "gridcolor": "white",
             "linecolor": "white",
             "minorgridcolor": "white",
             "startlinecolor": "#2a3f5f"
            },
            "type": "carpet"
           }
          ],
          "choropleth": [
           {
            "colorbar": {
             "outlinewidth": 0,
             "ticks": ""
            },
            "type": "choropleth"
           }
          ],
          "contour": [
           {
            "colorbar": {
             "outlinewidth": 0,
             "ticks": ""
            },
            "colorscale": [
             [
              0,
              "#0d0887"
             ],
             [
              0.1111111111111111,
              "#46039f"
             ],
             [
              0.2222222222222222,
              "#7201a8"
             ],
             [
              0.3333333333333333,
              "#9c179e"
             ],
             [
              0.4444444444444444,
              "#bd3786"
             ],
             [
              0.5555555555555556,
              "#d8576b"
             ],
             [
              0.6666666666666666,
              "#ed7953"
             ],
             [
              0.7777777777777778,
              "#fb9f3a"
             ],
             [
              0.8888888888888888,
              "#fdca26"
             ],
             [
              1,
              "#f0f921"
             ]
            ],
            "type": "contour"
           }
          ],
          "contourcarpet": [
           {
            "colorbar": {
             "outlinewidth": 0,
             "ticks": ""
            },
            "type": "contourcarpet"
           }
          ],
          "heatmap": [
           {
            "colorbar": {
             "outlinewidth": 0,
             "ticks": ""
            },
            "colorscale": [
             [
              0,
              "#0d0887"
             ],
             [
              0.1111111111111111,
              "#46039f"
             ],
             [
              0.2222222222222222,
              "#7201a8"
             ],
             [
              0.3333333333333333,
              "#9c179e"
             ],
             [
              0.4444444444444444,
              "#bd3786"
             ],
             [
              0.5555555555555556,
              "#d8576b"
             ],
             [
              0.6666666666666666,
              "#ed7953"
             ],
             [
              0.7777777777777778,
              "#fb9f3a"
             ],
             [
              0.8888888888888888,
              "#fdca26"
             ],
             [
              1,
              "#f0f921"
             ]
            ],
            "type": "heatmap"
           }
          ],
          "heatmapgl": [
           {
            "colorbar": {
             "outlinewidth": 0,
             "ticks": ""
            },
            "colorscale": [
             [
              0,
              "#0d0887"
             ],
             [
              0.1111111111111111,
              "#46039f"
             ],
             [
              0.2222222222222222,
              "#7201a8"
             ],
             [
              0.3333333333333333,
              "#9c179e"
             ],
             [
              0.4444444444444444,
              "#bd3786"
             ],
             [
              0.5555555555555556,
              "#d8576b"
             ],
             [
              0.6666666666666666,
              "#ed7953"
             ],
             [
              0.7777777777777778,
              "#fb9f3a"
             ],
             [
              0.8888888888888888,
              "#fdca26"
             ],
             [
              1,
              "#f0f921"
             ]
            ],
            "type": "heatmapgl"
           }
          ],
          "histogram": [
           {
            "marker": {
             "pattern": {
              "fillmode": "overlay",
              "size": 10,
              "solidity": 0.2
             }
            },
            "type": "histogram"
           }
          ],
          "histogram2d": [
           {
            "colorbar": {
             "outlinewidth": 0,
             "ticks": ""
            },
            "colorscale": [
             [
              0,
              "#0d0887"
             ],
             [
              0.1111111111111111,
              "#46039f"
             ],
             [
              0.2222222222222222,
              "#7201a8"
             ],
             [
              0.3333333333333333,
              "#9c179e"
             ],
             [
              0.4444444444444444,
              "#bd3786"
             ],
             [
              0.5555555555555556,
              "#d8576b"
             ],
             [
              0.6666666666666666,
              "#ed7953"
             ],
             [
              0.7777777777777778,
              "#fb9f3a"
             ],
             [
              0.8888888888888888,
              "#fdca26"
             ],
             [
              1,
              "#f0f921"
             ]
            ],
            "type": "histogram2d"
           }
          ],
          "histogram2dcontour": [
           {
            "colorbar": {
             "outlinewidth": 0,
             "ticks": ""
            },
            "colorscale": [
             [
              0,
              "#0d0887"
             ],
             [
              0.1111111111111111,
              "#46039f"
             ],
             [
              0.2222222222222222,
              "#7201a8"
             ],
             [
              0.3333333333333333,
              "#9c179e"
             ],
             [
              0.4444444444444444,
              "#bd3786"
             ],
             [
              0.5555555555555556,
              "#d8576b"
             ],
             [
              0.6666666666666666,
              "#ed7953"
             ],
             [
              0.7777777777777778,
              "#fb9f3a"
             ],
             [
              0.8888888888888888,
              "#fdca26"
             ],
             [
              1,
              "#f0f921"
             ]
            ],
            "type": "histogram2dcontour"
           }
          ],
          "mesh3d": [
           {
            "colorbar": {
             "outlinewidth": 0,
             "ticks": ""
            },
            "type": "mesh3d"
           }
          ],
          "parcoords": [
           {
            "line": {
             "colorbar": {
              "outlinewidth": 0,
              "ticks": ""
             }
            },
            "type": "parcoords"
           }
          ],
          "pie": [
           {
            "automargin": true,
            "type": "pie"
           }
          ],
          "scatter": [
           {
            "fillpattern": {
             "fillmode": "overlay",
             "size": 10,
             "solidity": 0.2
            },
            "type": "scatter"
           }
          ],
          "scatter3d": [
           {
            "line": {
             "colorbar": {
              "outlinewidth": 0,
              "ticks": ""
             }
            },
            "marker": {
             "colorbar": {
              "outlinewidth": 0,
              "ticks": ""
             }
            },
            "type": "scatter3d"
           }
          ],
          "scattercarpet": [
           {
            "marker": {
             "colorbar": {
              "outlinewidth": 0,
              "ticks": ""
             }
            },
            "type": "scattercarpet"
           }
          ],
          "scattergeo": [
           {
            "marker": {
             "colorbar": {
              "outlinewidth": 0,
              "ticks": ""
             }
            },
            "type": "scattergeo"
           }
          ],
          "scattergl": [
           {
            "marker": {
             "colorbar": {
              "outlinewidth": 0,
              "ticks": ""
             }
            },
            "type": "scattergl"
           }
          ],
          "scattermapbox": [
           {
            "marker": {
             "colorbar": {
              "outlinewidth": 0,
              "ticks": ""
             }
            },
            "type": "scattermapbox"
           }
          ],
          "scatterpolar": [
           {
            "marker": {
             "colorbar": {
              "outlinewidth": 0,
              "ticks": ""
             }
            },
            "type": "scatterpolar"
           }
          ],
          "scatterpolargl": [
           {
            "marker": {
             "colorbar": {
              "outlinewidth": 0,
              "ticks": ""
             }
            },
            "type": "scatterpolargl"
           }
          ],
          "scatterternary": [
           {
            "marker": {
             "colorbar": {
              "outlinewidth": 0,
              "ticks": ""
             }
            },
            "type": "scatterternary"
           }
          ],
          "surface": [
           {
            "colorbar": {
             "outlinewidth": 0,
             "ticks": ""
            },
            "colorscale": [
             [
              0,
              "#0d0887"
             ],
             [
              0.1111111111111111,
              "#46039f"
             ],
             [
              0.2222222222222222,
              "#7201a8"
             ],
             [
              0.3333333333333333,
              "#9c179e"
             ],
             [
              0.4444444444444444,
              "#bd3786"
             ],
             [
              0.5555555555555556,
              "#d8576b"
             ],
             [
              0.6666666666666666,
              "#ed7953"
             ],
             [
              0.7777777777777778,
              "#fb9f3a"
             ],
             [
              0.8888888888888888,
              "#fdca26"
             ],
             [
              1,
              "#f0f921"
             ]
            ],
            "type": "surface"
           }
          ],
          "table": [
           {
            "cells": {
             "fill": {
              "color": "#EBF0F8"
             },
             "line": {
              "color": "white"
             }
            },
            "header": {
             "fill": {
              "color": "#C8D4E3"
             },
             "line": {
              "color": "white"
             }
            },
            "type": "table"
           }
          ]
         },
         "layout": {
          "annotationdefaults": {
           "arrowcolor": "#2a3f5f",
           "arrowhead": 0,
           "arrowwidth": 1
          },
          "autotypenumbers": "strict",
          "coloraxis": {
           "colorbar": {
            "outlinewidth": 0,
            "ticks": ""
           }
          },
          "colorscale": {
           "diverging": [
            [
             0,
             "#8e0152"
            ],
            [
             0.1,
             "#c51b7d"
            ],
            [
             0.2,
             "#de77ae"
            ],
            [
             0.3,
             "#f1b6da"
            ],
            [
             0.4,
             "#fde0ef"
            ],
            [
             0.5,
             "#f7f7f7"
            ],
            [
             0.6,
             "#e6f5d0"
            ],
            [
             0.7,
             "#b8e186"
            ],
            [
             0.8,
             "#7fbc41"
            ],
            [
             0.9,
             "#4d9221"
            ],
            [
             1,
             "#276419"
            ]
           ],
           "sequential": [
            [
             0,
             "#0d0887"
            ],
            [
             0.1111111111111111,
             "#46039f"
            ],
            [
             0.2222222222222222,
             "#7201a8"
            ],
            [
             0.3333333333333333,
             "#9c179e"
            ],
            [
             0.4444444444444444,
             "#bd3786"
            ],
            [
             0.5555555555555556,
             "#d8576b"
            ],
            [
             0.6666666666666666,
             "#ed7953"
            ],
            [
             0.7777777777777778,
             "#fb9f3a"
            ],
            [
             0.8888888888888888,
             "#fdca26"
            ],
            [
             1,
             "#f0f921"
            ]
           ],
           "sequentialminus": [
            [
             0,
             "#0d0887"
            ],
            [
             0.1111111111111111,
             "#46039f"
            ],
            [
             0.2222222222222222,
             "#7201a8"
            ],
            [
             0.3333333333333333,
             "#9c179e"
            ],
            [
             0.4444444444444444,
             "#bd3786"
            ],
            [
             0.5555555555555556,
             "#d8576b"
            ],
            [
             0.6666666666666666,
             "#ed7953"
            ],
            [
             0.7777777777777778,
             "#fb9f3a"
            ],
            [
             0.8888888888888888,
             "#fdca26"
            ],
            [
             1,
             "#f0f921"
            ]
           ]
          },
          "colorway": [
           "#636efa",
           "#EF553B",
           "#00cc96",
           "#ab63fa",
           "#FFA15A",
           "#19d3f3",
           "#FF6692",
           "#B6E880",
           "#FF97FF",
           "#FECB52"
          ],
          "font": {
           "color": "#2a3f5f"
          },
          "geo": {
           "bgcolor": "white",
           "lakecolor": "white",
           "landcolor": "#E5ECF6",
           "showlakes": true,
           "showland": true,
           "subunitcolor": "white"
          },
          "hoverlabel": {
           "align": "left"
          },
          "hovermode": "closest",
          "mapbox": {
           "style": "light"
          },
          "paper_bgcolor": "white",
          "plot_bgcolor": "#E5ECF6",
          "polar": {
           "angularaxis": {
            "gridcolor": "white",
            "linecolor": "white",
            "ticks": ""
           },
           "bgcolor": "#E5ECF6",
           "radialaxis": {
            "gridcolor": "white",
            "linecolor": "white",
            "ticks": ""
           }
          },
          "scene": {
           "xaxis": {
            "backgroundcolor": "#E5ECF6",
            "gridcolor": "white",
            "gridwidth": 2,
            "linecolor": "white",
            "showbackground": true,
            "ticks": "",
            "zerolinecolor": "white"
           },
           "yaxis": {
            "backgroundcolor": "#E5ECF6",
            "gridcolor": "white",
            "gridwidth": 2,
            "linecolor": "white",
            "showbackground": true,
            "ticks": "",
            "zerolinecolor": "white"
           },
           "zaxis": {
            "backgroundcolor": "#E5ECF6",
            "gridcolor": "white",
            "gridwidth": 2,
            "linecolor": "white",
            "showbackground": true,
            "ticks": "",
            "zerolinecolor": "white"
           }
          },
          "shapedefaults": {
           "line": {
            "color": "#2a3f5f"
           }
          },
          "ternary": {
           "aaxis": {
            "gridcolor": "white",
            "linecolor": "white",
            "ticks": ""
           },
           "baxis": {
            "gridcolor": "white",
            "linecolor": "white",
            "ticks": ""
           },
           "bgcolor": "#E5ECF6",
           "caxis": {
            "gridcolor": "white",
            "linecolor": "white",
            "ticks": ""
           }
          },
          "title": {
           "x": 0.05
          },
          "xaxis": {
           "automargin": true,
           "gridcolor": "white",
           "linecolor": "white",
           "ticks": "",
           "title": {
            "standoff": 15
           },
           "zerolinecolor": "white",
           "zerolinewidth": 2
          },
          "yaxis": {
           "automargin": true,
           "gridcolor": "white",
           "linecolor": "white",
           "ticks": "",
           "title": {
            "standoff": 15
           },
           "zerolinecolor": "white",
           "zerolinewidth": 2
          }
         }
        },
        "title": {
         "text": "Strategy Performance: Return vs Risk"
        },
        "xaxis": {
         "anchor": "y",
         "domain": [
          0,
          1
         ],
         "title": {
          "text": "max_drawdown_pct"
         }
        },
        "yaxis": {
         "anchor": "x",
         "domain": [
          0,
          1
         ],
         "title": {
          "text": "total_return_pct"
         }
        }
       }
      }
     },
     "metadata": {},
     "output_type": "display_data"
    }
   ],
   "source": [
    "import plotly.express as px\n",
    "\n",
    "fig = px.scatter(\n",
    "    results, \n",
    "    x='max_drawdown_pct', \n",
    "    y='total_return_pct',\n",
    "    color='sharpe_ratio',\n",
    "    size='total_trades',\n",
    "    hover_data=['CVDBB_bbands_length', 'CVDBB_cvd_length', 'win_rate_pct'],\n",
    "    title='Strategy Performance: Return vs Risk'\n",
    ")\n",
    "fig.show()"
   ]
  }
 ],
 "metadata": {
  "kernelspec": {
   "display_name": "Python 3",
   "language": "python",
   "name": "python3"
  },
  "language_info": {
   "codemirror_mode": {
    "name": "ipython",
    "version": 3
   },
   "file_extension": ".py",
   "mimetype": "text/x-python",
   "name": "python",
   "nbconvert_exporter": "python",
   "pygments_lexer": "ipython3",
   "version": "3.12.0"
  }
 },
 "nbformat": 4,
 "nbformat_minor": 5
}
